{
 "cells": [
  {
   "cell_type": "code",
   "execution_count": null,
   "id": "e26c04a6-6ade-4444-908b-92b01353d9ec",
   "metadata": {},
   "outputs": [],
   "source": [
    "''' Problem Statement for Your Project\n",
    "Title: Real Estate Market Analysis & Pricing Trends in Delhi\n",
    "Objective:\n",
    "The real estate market is dynamic and influenced by various factors such as location, property size, age, and nearby amenities. This project aims to analyze real estate trends in Delhi using data science techniques to provide actionable insights on pricing, demand patterns, and investment opportunities.\n",
    "\n",
    "Key Goals:\n",
    "1. Price Analysis & Trends – Identify pricing trends based on location, property size, and amenities.\n",
    "\n",
    "2. Demand Insights – Determine factors that increase or decrease property value.\n",
    "\n",
    "3. Affordability Index – Analyze cost per square foot to assess affordability in different areas.\n",
    "\n",
    "4. Investment Potential – Identify emerging high-value locations and predict potential growth.\n",
    "\n",
    "5. Data-Driven Decision Making – Help buyers, sellers, and investors make informed decisions.'''"
   ]
  },
  {
   "cell_type": "code",
   "execution_count": 101,
   "id": "222d86f1-9055-4b9c-ae51-9d603560a005",
   "metadata": {},
   "outputs": [],
   "source": [
    "import pandas as pd, numpy as np, seaborn as sns\n",
    "import matplotlib.pyplot as plt,  matplotlib.ticker as ticker"
   ]
  },
  {
   "cell_type": "code",
   "execution_count": 102,
   "id": "eed1925d-8f6b-4a62-9e73-9f4cd0ec7251",
   "metadata": {},
   "outputs": [
    {
     "data": {
      "text/html": [
       "<div>\n",
       "<style scoped>\n",
       "    .dataframe tbody tr th:only-of-type {\n",
       "        vertical-align: middle;\n",
       "    }\n",
       "\n",
       "    .dataframe tbody tr th {\n",
       "        vertical-align: top;\n",
       "    }\n",
       "\n",
       "    .dataframe thead th {\n",
       "        text-align: right;\n",
       "    }\n",
       "</style>\n",
       "<table border=\"1\" class=\"dataframe\">\n",
       "  <thead>\n",
       "    <tr style=\"text-align: right;\">\n",
       "      <th></th>\n",
       "      <th>Area</th>\n",
       "      <th>BHK</th>\n",
       "      <th>Bathroom</th>\n",
       "      <th>Furnishing</th>\n",
       "      <th>Locality</th>\n",
       "      <th>Parking</th>\n",
       "      <th>Price</th>\n",
       "      <th>Status</th>\n",
       "      <th>Transaction</th>\n",
       "      <th>Type</th>\n",
       "      <th>Per_Sqft</th>\n",
       "      <th>Floor_Level</th>\n",
       "      <th>Property_Age</th>\n",
       "      <th>Nearby_Amenities</th>\n",
       "    </tr>\n",
       "  </thead>\n",
       "  <tbody>\n",
       "    <tr>\n",
       "      <th>0</th>\n",
       "      <td>800.0</td>\n",
       "      <td>3</td>\n",
       "      <td>2.0</td>\n",
       "      <td>Semi-Furnished</td>\n",
       "      <td>Rohini Sector 25</td>\n",
       "      <td>1.0</td>\n",
       "      <td>6500000.0</td>\n",
       "      <td>Ready_to_move</td>\n",
       "      <td>New_Property</td>\n",
       "      <td>Builder_Floor</td>\n",
       "      <td>8125.000000</td>\n",
       "      <td>3rd Floor</td>\n",
       "      <td>10-20 years</td>\n",
       "      <td>Near Metro</td>\n",
       "    </tr>\n",
       "    <tr>\n",
       "      <th>1</th>\n",
       "      <td>750.0</td>\n",
       "      <td>2</td>\n",
       "      <td>2.0</td>\n",
       "      <td>Semi-Furnished</td>\n",
       "      <td>J R Designers Floors, Rohini Sector 24</td>\n",
       "      <td>1.0</td>\n",
       "      <td>5000000.0</td>\n",
       "      <td>Ready_to_move</td>\n",
       "      <td>New_Property</td>\n",
       "      <td>Apartment</td>\n",
       "      <td>6666.666667</td>\n",
       "      <td>2nd Floor</td>\n",
       "      <td>20+ years</td>\n",
       "      <td>NaN</td>\n",
       "    </tr>\n",
       "    <tr>\n",
       "      <th>2</th>\n",
       "      <td>950.0</td>\n",
       "      <td>2</td>\n",
       "      <td>2.0</td>\n",
       "      <td>Furnished</td>\n",
       "      <td>Citizen Apartment, Rohini Sector 13</td>\n",
       "      <td>1.0</td>\n",
       "      <td>15500000.0</td>\n",
       "      <td>Ready_to_move</td>\n",
       "      <td>Resale</td>\n",
       "      <td>Apartment</td>\n",
       "      <td>16315.789470</td>\n",
       "      <td>Penthouse</td>\n",
       "      <td>5-10 years</td>\n",
       "      <td>Near Mall</td>\n",
       "    </tr>\n",
       "    <tr>\n",
       "      <th>3</th>\n",
       "      <td>600.0</td>\n",
       "      <td>2</td>\n",
       "      <td>2.0</td>\n",
       "      <td>Semi-Furnished</td>\n",
       "      <td>Rohini Sector 24</td>\n",
       "      <td>1.0</td>\n",
       "      <td>4200000.0</td>\n",
       "      <td>Ready_to_move</td>\n",
       "      <td>Resale</td>\n",
       "      <td>Builder_Floor</td>\n",
       "      <td>7000.000000</td>\n",
       "      <td>1st Floor</td>\n",
       "      <td>20+ years</td>\n",
       "      <td>Near Mall</td>\n",
       "    </tr>\n",
       "    <tr>\n",
       "      <th>4</th>\n",
       "      <td>650.0</td>\n",
       "      <td>2</td>\n",
       "      <td>2.0</td>\n",
       "      <td>Semi-Furnished</td>\n",
       "      <td>Rohini Sector 24 carpet area 650 sqft status R...</td>\n",
       "      <td>1.0</td>\n",
       "      <td>6200000.0</td>\n",
       "      <td>Ready_to_move</td>\n",
       "      <td>New_Property</td>\n",
       "      <td>Builder_Floor</td>\n",
       "      <td>9538.461538</td>\n",
       "      <td>Penthouse</td>\n",
       "      <td>20+ years</td>\n",
       "      <td>Near Hospital</td>\n",
       "    </tr>\n",
       "  </tbody>\n",
       "</table>\n",
       "</div>"
      ],
      "text/plain": [
       "    Area  BHK  Bathroom      Furnishing  \\\n",
       "0  800.0    3       2.0  Semi-Furnished   \n",
       "1  750.0    2       2.0  Semi-Furnished   \n",
       "2  950.0    2       2.0       Furnished   \n",
       "3  600.0    2       2.0  Semi-Furnished   \n",
       "4  650.0    2       2.0  Semi-Furnished   \n",
       "\n",
       "                                            Locality  Parking       Price  \\\n",
       "0                                   Rohini Sector 25      1.0   6500000.0   \n",
       "1             J R Designers Floors, Rohini Sector 24      1.0   5000000.0   \n",
       "2                Citizen Apartment, Rohini Sector 13      1.0  15500000.0   \n",
       "3                                   Rohini Sector 24      1.0   4200000.0   \n",
       "4  Rohini Sector 24 carpet area 650 sqft status R...      1.0   6200000.0   \n",
       "\n",
       "          Status   Transaction           Type      Per_Sqft Floor_Level  \\\n",
       "0  Ready_to_move  New_Property  Builder_Floor   8125.000000   3rd Floor   \n",
       "1  Ready_to_move  New_Property      Apartment   6666.666667   2nd Floor   \n",
       "2  Ready_to_move        Resale      Apartment  16315.789470   Penthouse   \n",
       "3  Ready_to_move        Resale  Builder_Floor   7000.000000   1st Floor   \n",
       "4  Ready_to_move  New_Property  Builder_Floor   9538.461538   Penthouse   \n",
       "\n",
       "  Property_Age Nearby_Amenities  \n",
       "0  10-20 years       Near Metro  \n",
       "1    20+ years              NaN  \n",
       "2   5-10 years        Near Mall  \n",
       "3    20+ years        Near Mall  \n",
       "4    20+ years    Near Hospital  "
      ]
     },
     "execution_count": 102,
     "metadata": {},
     "output_type": "execute_result"
    }
   ],
   "source": [
    "path = \"C:\\\\Environment\\\\CA2 Project\\\\IndianHouses_Corrected.csv\"\n",
    "data = pd.read_csv(path)\n",
    "data.head()"
   ]
  },
  {
   "cell_type": "code",
   "execution_count": 103,
   "id": "28c9655f-46c2-4505-95c7-3de611ad2710",
   "metadata": {},
   "outputs": [
    {
     "name": "stdout",
     "output_type": "stream",
     "text": [
      "<class 'pandas.core.frame.DataFrame'>\n",
      "RangeIndex: 5000 entries, 0 to 4999\n",
      "Data columns (total 14 columns):\n",
      " #   Column            Non-Null Count  Dtype  \n",
      "---  ------            --------------  -----  \n",
      " 0   Area              5000 non-null   float64\n",
      " 1   BHK               5000 non-null   int64  \n",
      " 2   Bathroom          4992 non-null   float64\n",
      " 3   Furnishing        4982 non-null   object \n",
      " 4   Locality          5000 non-null   object \n",
      " 5   Parking           4883 non-null   float64\n",
      " 6   Price             5000 non-null   float64\n",
      " 7   Status            5000 non-null   object \n",
      " 8   Transaction       5000 non-null   object \n",
      " 9   Type              4982 non-null   object \n",
      " 10  Per_Sqft          5000 non-null   float64\n",
      " 11  Floor_Level       5000 non-null   object \n",
      " 12  Property_Age      5000 non-null   object \n",
      " 13  Nearby_Amenities  3978 non-null   object \n",
      "dtypes: float64(5), int64(1), object(8)\n",
      "memory usage: 547.0+ KB\n"
     ]
    }
   ],
   "source": [
    "data.info() #BASIC INFORMATION"
   ]
  },
  {
   "cell_type": "code",
   "execution_count": 104,
   "id": "0a8b180f-7eeb-443e-918b-54c8fa9eabbf",
   "metadata": {},
   "outputs": [
    {
     "name": "stdout",
     "output_type": "stream",
     "text": [
      "Area                   0\n",
      "BHK                    0\n",
      "Bathroom               8\n",
      "Furnishing            18\n",
      "Locality               0\n",
      "Parking              117\n",
      "Price                  0\n",
      "Status                 0\n",
      "Transaction            0\n",
      "Type                  18\n",
      "Per_Sqft               0\n",
      "Floor_Level            0\n",
      "Property_Age           0\n",
      "Nearby_Amenities    1022\n",
      "dtype: int64\n"
     ]
    }
   ],
   "source": [
    "print(data.isnull().sum()) #CHECKING NULL VALUES"
   ]
  },
  {
   "cell_type": "code",
   "execution_count": 105,
   "id": "9c923f34-ce07-4d28-b71e-a234f2b8515e",
   "metadata": {},
   "outputs": [
    {
     "name": "stdout",
     "output_type": "stream",
     "text": [
      "Area                   0\n",
      "BHK                    0\n",
      "Bathroom               0\n",
      "Furnishing             0\n",
      "Locality               0\n",
      "Parking                0\n",
      "Price                  0\n",
      "Status                 0\n",
      "Transaction            0\n",
      "Type                   0\n",
      "Per_Sqft               0\n",
      "Floor_Level            0\n",
      "Property_Age           0\n",
      "Nearby_Amenities    1022\n",
      "dtype: int64\n"
     ]
    }
   ],
   "source": [
    "data.loc[:, 'Bathroom'] = data['Bathroom'].fillna(data['Bathroom'].mode()[0])\n",
    "data.loc[:, 'Furnishing'] = data['Furnishing'].fillna('Unfurnished')\n",
    "data.loc[:, 'Parking'] = data['Parking'].fillna(0)\n",
    "data.loc[:, 'Type'] = data['Type'].fillna(data['Type'].mode()[0])\n",
    "\n",
    "# Check if all missing values are handled\n",
    "print(data.isnull().sum())"
   ]
  },
  {
   "cell_type": "code",
   "execution_count": 106,
   "id": "812d7224-c178-4d7f-aeca-e05cc7ad5c15",
   "metadata": {},
   "outputs": [
    {
     "data": {
      "text/html": [
       "<div>\n",
       "<style scoped>\n",
       "    .dataframe tbody tr th:only-of-type {\n",
       "        vertical-align: middle;\n",
       "    }\n",
       "\n",
       "    .dataframe tbody tr th {\n",
       "        vertical-align: top;\n",
       "    }\n",
       "\n",
       "    .dataframe thead th {\n",
       "        text-align: right;\n",
       "    }\n",
       "</style>\n",
       "<table border=\"1\" class=\"dataframe\">\n",
       "  <thead>\n",
       "    <tr style=\"text-align: right;\">\n",
       "      <th></th>\n",
       "      <th>Area</th>\n",
       "      <th>BHK</th>\n",
       "      <th>Bathroom</th>\n",
       "      <th>Furnishing</th>\n",
       "      <th>Locality</th>\n",
       "      <th>Parking</th>\n",
       "      <th>Price</th>\n",
       "      <th>Status</th>\n",
       "      <th>Transaction</th>\n",
       "      <th>Type</th>\n",
       "      <th>Per_Sqft</th>\n",
       "      <th>Floor_Level</th>\n",
       "      <th>Property_Age</th>\n",
       "      <th>Nearby_Amenities</th>\n",
       "    </tr>\n",
       "  </thead>\n",
       "  <tbody>\n",
       "    <tr>\n",
       "      <th>0</th>\n",
       "      <td>800.0</td>\n",
       "      <td>3</td>\n",
       "      <td>2.0</td>\n",
       "      <td>Semi-Furnished</td>\n",
       "      <td>Rohini Sector 25</td>\n",
       "      <td>1.0</td>\n",
       "      <td>6500000.0</td>\n",
       "      <td>Ready_to_move</td>\n",
       "      <td>New_Property</td>\n",
       "      <td>Builder_Floor</td>\n",
       "      <td>8125.000000</td>\n",
       "      <td>3rd Floor</td>\n",
       "      <td>10-20 years</td>\n",
       "      <td>Near Metro</td>\n",
       "    </tr>\n",
       "    <tr>\n",
       "      <th>1</th>\n",
       "      <td>750.0</td>\n",
       "      <td>2</td>\n",
       "      <td>2.0</td>\n",
       "      <td>Semi-Furnished</td>\n",
       "      <td>J R Designers Floors, Rohini Sector 24</td>\n",
       "      <td>1.0</td>\n",
       "      <td>5000000.0</td>\n",
       "      <td>Ready_to_move</td>\n",
       "      <td>New_Property</td>\n",
       "      <td>Apartment</td>\n",
       "      <td>6666.666667</td>\n",
       "      <td>2nd Floor</td>\n",
       "      <td>20+ years</td>\n",
       "      <td>NaN</td>\n",
       "    </tr>\n",
       "    <tr>\n",
       "      <th>2</th>\n",
       "      <td>950.0</td>\n",
       "      <td>2</td>\n",
       "      <td>2.0</td>\n",
       "      <td>Furnished</td>\n",
       "      <td>Citizen Apartment, Rohini Sector 13</td>\n",
       "      <td>1.0</td>\n",
       "      <td>15500000.0</td>\n",
       "      <td>Ready_to_move</td>\n",
       "      <td>Resale</td>\n",
       "      <td>Apartment</td>\n",
       "      <td>16315.789470</td>\n",
       "      <td>Penthouse</td>\n",
       "      <td>5-10 years</td>\n",
       "      <td>Near Mall</td>\n",
       "    </tr>\n",
       "    <tr>\n",
       "      <th>3</th>\n",
       "      <td>600.0</td>\n",
       "      <td>2</td>\n",
       "      <td>2.0</td>\n",
       "      <td>Semi-Furnished</td>\n",
       "      <td>Rohini Sector 24</td>\n",
       "      <td>1.0</td>\n",
       "      <td>4200000.0</td>\n",
       "      <td>Ready_to_move</td>\n",
       "      <td>Resale</td>\n",
       "      <td>Builder_Floor</td>\n",
       "      <td>7000.000000</td>\n",
       "      <td>1st Floor</td>\n",
       "      <td>20+ years</td>\n",
       "      <td>Near Mall</td>\n",
       "    </tr>\n",
       "    <tr>\n",
       "      <th>4</th>\n",
       "      <td>650.0</td>\n",
       "      <td>2</td>\n",
       "      <td>2.0</td>\n",
       "      <td>Semi-Furnished</td>\n",
       "      <td>Rohini Sector 24 carpet area 650 sqft status R...</td>\n",
       "      <td>1.0</td>\n",
       "      <td>6200000.0</td>\n",
       "      <td>Ready_to_move</td>\n",
       "      <td>New_Property</td>\n",
       "      <td>Builder_Floor</td>\n",
       "      <td>9538.461538</td>\n",
       "      <td>Penthouse</td>\n",
       "      <td>20+ years</td>\n",
       "      <td>Near Hospital</td>\n",
       "    </tr>\n",
       "  </tbody>\n",
       "</table>\n",
       "</div>"
      ],
      "text/plain": [
       "    Area  BHK  Bathroom      Furnishing  \\\n",
       "0  800.0    3       2.0  Semi-Furnished   \n",
       "1  750.0    2       2.0  Semi-Furnished   \n",
       "2  950.0    2       2.0       Furnished   \n",
       "3  600.0    2       2.0  Semi-Furnished   \n",
       "4  650.0    2       2.0  Semi-Furnished   \n",
       "\n",
       "                                            Locality  Parking       Price  \\\n",
       "0                                   Rohini Sector 25      1.0   6500000.0   \n",
       "1             J R Designers Floors, Rohini Sector 24      1.0   5000000.0   \n",
       "2                Citizen Apartment, Rohini Sector 13      1.0  15500000.0   \n",
       "3                                   Rohini Sector 24      1.0   4200000.0   \n",
       "4  Rohini Sector 24 carpet area 650 sqft status R...      1.0   6200000.0   \n",
       "\n",
       "          Status   Transaction           Type      Per_Sqft Floor_Level  \\\n",
       "0  Ready_to_move  New_Property  Builder_Floor   8125.000000   3rd Floor   \n",
       "1  Ready_to_move  New_Property      Apartment   6666.666667   2nd Floor   \n",
       "2  Ready_to_move        Resale      Apartment  16315.789470   Penthouse   \n",
       "3  Ready_to_move        Resale  Builder_Floor   7000.000000   1st Floor   \n",
       "4  Ready_to_move  New_Property  Builder_Floor   9538.461538   Penthouse   \n",
       "\n",
       "  Property_Age Nearby_Amenities  \n",
       "0  10-20 years       Near Metro  \n",
       "1    20+ years              NaN  \n",
       "2   5-10 years        Near Mall  \n",
       "3    20+ years        Near Mall  \n",
       "4    20+ years    Near Hospital  "
      ]
     },
     "execution_count": 106,
     "metadata": {},
     "output_type": "execute_result"
    }
   ],
   "source": [
    "data.head()"
   ]
  },
  {
   "cell_type": "code",
   "execution_count": 107,
   "id": "471b4ef9-b3f6-4814-a438-d525a6378f4b",
   "metadata": {},
   "outputs": [
    {
     "name": "stdout",
     "output_type": "stream",
     "text": [
      "0\n"
     ]
    }
   ],
   "source": [
    "duplicate_count = data.duplicated().sum()\n",
    "print(duplicate_count)"
   ]
  },
  {
   "cell_type": "code",
   "execution_count": 108,
   "id": "8e63ac0d-b0e2-48a0-a5ad-8f52be29a1c4",
   "metadata": {},
   "outputs": [
    {
     "name": "stdout",
     "output_type": "stream",
     "text": [
      "Area                float64\n",
      "BHK                   int64\n",
      "Bathroom            float64\n",
      "Furnishing           object\n",
      "Locality             object\n",
      "Parking             float64\n",
      "Price               float64\n",
      "Status               object\n",
      "Transaction          object\n",
      "Type                 object\n",
      "Per_Sqft            float64\n",
      "Floor_Level          object\n",
      "Property_Age         object\n",
      "Nearby_Amenities     object\n",
      "dtype: object\n"
     ]
    }
   ],
   "source": [
    "print(data.dtypes)"
   ]
  },
  {
   "cell_type": "code",
   "execution_count": 109,
   "id": "44884739-69e6-4eb7-8c08-02bf5af7d3d0",
   "metadata": {},
   "outputs": [
    {
     "data": {
      "text/html": [
       "<div>\n",
       "<style scoped>\n",
       "    .dataframe tbody tr th:only-of-type {\n",
       "        vertical-align: middle;\n",
       "    }\n",
       "\n",
       "    .dataframe tbody tr th {\n",
       "        vertical-align: top;\n",
       "    }\n",
       "\n",
       "    .dataframe thead th {\n",
       "        text-align: right;\n",
       "    }\n",
       "</style>\n",
       "<table border=\"1\" class=\"dataframe\">\n",
       "  <thead>\n",
       "    <tr style=\"text-align: right;\">\n",
       "      <th></th>\n",
       "      <th>Area</th>\n",
       "      <th>BHK</th>\n",
       "      <th>Bathroom</th>\n",
       "      <th>Furnishing</th>\n",
       "      <th>Locality</th>\n",
       "      <th>Parking</th>\n",
       "      <th>Price</th>\n",
       "      <th>Status</th>\n",
       "      <th>Transaction</th>\n",
       "      <th>Type</th>\n",
       "      <th>Per_Sqft</th>\n",
       "      <th>Floor_Level</th>\n",
       "      <th>Property_Age</th>\n",
       "      <th>Nearby_Amenities</th>\n",
       "    </tr>\n",
       "  </thead>\n",
       "  <tbody>\n",
       "    <tr>\n",
       "      <th>0</th>\n",
       "      <td>800.0</td>\n",
       "      <td>3</td>\n",
       "      <td>2</td>\n",
       "      <td>Semi-Furnished</td>\n",
       "      <td>Rohini Sector 25</td>\n",
       "      <td>1</td>\n",
       "      <td>6500000.0</td>\n",
       "      <td>Ready_to_move</td>\n",
       "      <td>New_Property</td>\n",
       "      <td>Builder_Floor</td>\n",
       "      <td>8125.000000</td>\n",
       "      <td>3rd Floor</td>\n",
       "      <td>10-20 years</td>\n",
       "      <td>Near Metro</td>\n",
       "    </tr>\n",
       "    <tr>\n",
       "      <th>1</th>\n",
       "      <td>750.0</td>\n",
       "      <td>2</td>\n",
       "      <td>2</td>\n",
       "      <td>Semi-Furnished</td>\n",
       "      <td>J R Designers Floors, Rohini Sector 24</td>\n",
       "      <td>1</td>\n",
       "      <td>5000000.0</td>\n",
       "      <td>Ready_to_move</td>\n",
       "      <td>New_Property</td>\n",
       "      <td>Apartment</td>\n",
       "      <td>6666.666667</td>\n",
       "      <td>2nd Floor</td>\n",
       "      <td>20+ years</td>\n",
       "      <td>NaN</td>\n",
       "    </tr>\n",
       "    <tr>\n",
       "      <th>2</th>\n",
       "      <td>950.0</td>\n",
       "      <td>2</td>\n",
       "      <td>2</td>\n",
       "      <td>Furnished</td>\n",
       "      <td>Citizen Apartment, Rohini Sector 13</td>\n",
       "      <td>1</td>\n",
       "      <td>15500000.0</td>\n",
       "      <td>Ready_to_move</td>\n",
       "      <td>Resale</td>\n",
       "      <td>Apartment</td>\n",
       "      <td>16315.789470</td>\n",
       "      <td>Penthouse</td>\n",
       "      <td>5-10 years</td>\n",
       "      <td>Near Mall</td>\n",
       "    </tr>\n",
       "    <tr>\n",
       "      <th>3</th>\n",
       "      <td>600.0</td>\n",
       "      <td>2</td>\n",
       "      <td>2</td>\n",
       "      <td>Semi-Furnished</td>\n",
       "      <td>Rohini Sector 24</td>\n",
       "      <td>1</td>\n",
       "      <td>4200000.0</td>\n",
       "      <td>Ready_to_move</td>\n",
       "      <td>Resale</td>\n",
       "      <td>Builder_Floor</td>\n",
       "      <td>7000.000000</td>\n",
       "      <td>1st Floor</td>\n",
       "      <td>20+ years</td>\n",
       "      <td>Near Mall</td>\n",
       "    </tr>\n",
       "    <tr>\n",
       "      <th>4</th>\n",
       "      <td>650.0</td>\n",
       "      <td>2</td>\n",
       "      <td>2</td>\n",
       "      <td>Semi-Furnished</td>\n",
       "      <td>Rohini Sector 24 carpet area 650 sqft status R...</td>\n",
       "      <td>1</td>\n",
       "      <td>6200000.0</td>\n",
       "      <td>Ready_to_move</td>\n",
       "      <td>New_Property</td>\n",
       "      <td>Builder_Floor</td>\n",
       "      <td>9538.461538</td>\n",
       "      <td>Penthouse</td>\n",
       "      <td>20+ years</td>\n",
       "      <td>Near Hospital</td>\n",
       "    </tr>\n",
       "  </tbody>\n",
       "</table>\n",
       "</div>"
      ],
      "text/plain": [
       "    Area  BHK  Bathroom      Furnishing  \\\n",
       "0  800.0    3         2  Semi-Furnished   \n",
       "1  750.0    2         2  Semi-Furnished   \n",
       "2  950.0    2         2       Furnished   \n",
       "3  600.0    2         2  Semi-Furnished   \n",
       "4  650.0    2         2  Semi-Furnished   \n",
       "\n",
       "                                            Locality  Parking       Price  \\\n",
       "0                                   Rohini Sector 25        1   6500000.0   \n",
       "1             J R Designers Floors, Rohini Sector 24        1   5000000.0   \n",
       "2                Citizen Apartment, Rohini Sector 13        1  15500000.0   \n",
       "3                                   Rohini Sector 24        1   4200000.0   \n",
       "4  Rohini Sector 24 carpet area 650 sqft status R...        1   6200000.0   \n",
       "\n",
       "          Status   Transaction           Type      Per_Sqft Floor_Level  \\\n",
       "0  Ready_to_move  New_Property  Builder_Floor   8125.000000   3rd Floor   \n",
       "1  Ready_to_move  New_Property      Apartment   6666.666667   2nd Floor   \n",
       "2  Ready_to_move        Resale      Apartment  16315.789470   Penthouse   \n",
       "3  Ready_to_move        Resale  Builder_Floor   7000.000000   1st Floor   \n",
       "4  Ready_to_move  New_Property  Builder_Floor   9538.461538   Penthouse   \n",
       "\n",
       "  Property_Age Nearby_Amenities  \n",
       "0  10-20 years       Near Metro  \n",
       "1    20+ years              NaN  \n",
       "2   5-10 years        Near Mall  \n",
       "3    20+ years        Near Mall  \n",
       "4    20+ years    Near Hospital  "
      ]
     },
     "execution_count": 109,
     "metadata": {},
     "output_type": "execute_result"
    }
   ],
   "source": [
    " #discrete values converted from float into integer\n",
    "data['Bathroom'] = data['Bathroom'].astype(int)\n",
    "data['Parking'] = data['Parking'].astype(int)\n",
    "data.head()"
   ]
  },
  {
   "cell_type": "code",
   "execution_count": 110,
   "id": "33c35786-f36b-434d-ba86-397fca107c55",
   "metadata": {},
   "outputs": [
    {
     "name": "stdout",
     "output_type": "stream",
     "text": [
      "               Area          BHK     Bathroom      Parking         Price  \\\n",
      "count   5000.000000  5000.000000  5000.000000  5000.000000  5.000000e+03   \n",
      "mean    1454.385790     2.802400     2.576400     1.816000  2.134261e+07   \n",
      "std     1493.927448     0.956419     1.032849     5.581324  2.567374e+07   \n",
      "min       26.459248     1.000000     1.000000     0.000000  9.029392e+05   \n",
      "25%      800.000000     2.000000     2.000000     1.000000  5.674802e+06   \n",
      "50%     1200.000000     3.000000     2.000000     1.000000  1.400000e+07   \n",
      "75%     1700.000000     3.000000     3.000000     2.000000  2.600000e+07   \n",
      "max    25805.175360    10.000000     7.000000   114.000000  2.635827e+08   \n",
      "\n",
      "            Per_Sqft  \n",
      "count    5000.000000  \n",
      "mean    14977.847189  \n",
      "std     21189.205040  \n",
      "min       167.892310  \n",
      "25%      6871.730484  \n",
      "50%     11610.933835  \n",
      "75%     17573.853012  \n",
      "max    538461.538500  \n"
     ]
    }
   ],
   "source": [
    "print(data.describe()) #summary of numerical columns"
   ]
  },
  {
   "cell_type": "code",
   "execution_count": 111,
   "id": "ab729061-588d-4e1e-b64f-df8a640c7351",
   "metadata": {},
   "outputs": [
    {
     "name": "stdout",
     "output_type": "stream",
     "text": [
      "            Furnishing                                Locality         Status  \\\n",
      "count             5000                                    5000           5000   \n",
      "unique               3                                     365              2   \n",
      "top     Semi-Furnished  J R Designers Floors, Rohini Sector 24  Ready_to_move   \n",
      "freq              2804                                     141           4688   \n",
      "\n",
      "       Transaction           Type Floor_Level Property_Age Nearby_Amenities  \n",
      "count         5000           5000        5000         5000             3978  \n",
      "unique           2              2           5            4                4  \n",
      "top         Resale  Builder_Floor   3rd Floor   5-10 years    Near Hospital  \n",
      "freq          3126           2639        1025         1315             1003  \n"
     ]
    }
   ],
   "source": [
    "# Summary of object (categorical) columns\n",
    "print(data.describe(include='object'))"
   ]
  },
  {
   "cell_type": "code",
   "execution_count": 112,
   "id": "6afc520a-f625-43e7-a0d1-0b940c9a2f5b",
   "metadata": {},
   "outputs": [
    {
     "data": {
      "image/png": "[encoded data removed]",
      "text/plain": [
       "<Figure size 1000x500 with 2 Axes>"
      ]
     },
     "metadata": {},
     "output_type": "display_data"
    }
   ],
   "source": [
    "#showing relationship between each numeric attributes\n",
    "plt.figure(figsize=(10, 5))\n",
    "sns.heatmap(data.corr(numeric_only=True), annot=True, cmap='coolwarm')\n",
    "plt.title('Correlation Heatmap')\n",
    "plt.show()"
   ]
  },
  {
   "cell_type": "code",
   "execution_count": 138,
   "id": "c2a93b67-77ea-4ee6-b70f-2af1be5d9a99",
   "metadata": {},
   "outputs": [
    {
     "data": {
      "image/png": "[encoded data removed]",
      "text/plain": [
       "<Figure size 1000x500 with 1 Axes>"
      ]
     },
     "metadata": {},
     "output_type": "display_data"
    }
   ],
   "source": [
    "# Number of properties vs their prices\n",
    "plt.figure(figsize=(10, 5))\n",
    "sns.histplot(data['Price'], bins=20, kde=True)\n",
    "plt.title(\"Distribution of House Prices\")\n",
    "plt.xlabel(\"Price (in ₹)\")\n",
    "plt.ylabel(\"Number of Properties\")\n",
    "plt.gca().xaxis.set_major_formatter(ticker.FuncFormatter(lambda x, _: f'{int(x):,}')) #***\n",
    "plt.show()"
   ]
  },
  {
   "cell_type": "code",
   "execution_count": 135,
   "id": "727ee217-e278-4b02-9749-15d0bd5c5249",
   "metadata": {},
   "outputs": [
    {
     "data": {
      "image/png": "[encoded data removed]",
      "text/plain": [
       "<Figure size 500x500 with 1 Axes>"
      ]
     },
     "metadata": {},
     "output_type": "display_data"
    }
   ],
   "source": [
    "plt.figure(figsize=(5, 5))\n",
    "sns.countplot(data['Type'])\n",
    "plt.title(\"Count of Property Types\")\n",
    "plt.xticks(rotation=0)\n",
    "plt.show()"
   ]
  },
  {
   "cell_type": "code",
   "execution_count": 117,
   "id": "40fe555c-3aa3-4a51-951d-7b344f18bc72",
   "metadata": {},
   "outputs": [
    {
     "data": {
      "image/png": "[encoded data removed]",
      "text/plain": [
       "<Figure size 1000x400 with 1 Axes>"
      ]
     },
     "metadata": {},
     "output_type": "display_data"
    }
   ],
   "source": []
  },
  {
   "cell_type": "code",
   "execution_count": 118,
   "id": "6b8c8299-65ec-477e-8d7b-5cc0903cf4c7",
   "metadata": {},
   "outputs": [
    {
     "name": "stdout",
     "output_type": "stream",
     "text": [
      "[np.int64(1), np.int64(2), np.int64(3), np.int64(4), np.int64(5), np.int64(6), np.int64(7), np.int64(10)]\n"
     ]
    }
   ],
   "source": [
    "print(sorted(data['BHK'].unique())) #checking unique values of bhk"
   ]
  },
  {
   "cell_type": "code",
   "execution_count": 143,
   "id": "147fd30a-effb-4cb1-944b-cadf9123d64e",
   "metadata": {},
   "outputs": [
    {
     "data": {
      "image/png": "[encoded data removed]",
      "text/plain": [
       "<Figure size 800x500 with 1 Axes>"
      ]
     },
     "metadata": {},
     "output_type": "display_data"
    }
   ],
   "source": [
    "# plotting on the basis of filtered values because bhk lies 1-10 in dataset\n",
    "filtered_data = data[data['BHK'].between(1, 10)]\n",
    "\n",
    "plt.figure(figsize=(8, 5))\n",
    "sns.countplot(x='BHK', hue='BHK', data=filtered_data, legend=True, palette='Set2')\n",
    "\n",
    "plt.title(\"Distribution of BHK in Properties\", fontsize=14)\n",
    "plt.xlabel(\"Number of Bedrooms (BHK)\", fontsize=12)\n",
    "plt.ylabel(\"Number of Properties\", fontsize=12)\n",
    "\n",
    "plt.grid(axis='y', linestyle='--', alpha=0.75)\n",
    "plt.show()\n"
   ]
  },
  {
   "cell_type": "code",
   "execution_count": null,
   "id": "a09f8822-4678-4dd9-8915-186c281c4fb5",
   "metadata": {},
   "outputs": [],
   "source": []
  }
 ],
 "metadata": {
  "kernelspec": {
   "display_name": "Python 3 (ipykernel)",
   "language": "python",
   "name": "python3"
  },
  "language_info": {
   "codemirror_mode": {
    "name": "ipython",
    "version": 3
   },
   "file_extension": ".py",
   "mimetype": "text/x-python",
   "name": "python",
   "nbconvert_exporter": "python",
   "pygments_lexer": "ipython3",
   "version": "3.13.1"
  }
 },
 "nbformat": 4,
 "nbformat_minor": 5
}
